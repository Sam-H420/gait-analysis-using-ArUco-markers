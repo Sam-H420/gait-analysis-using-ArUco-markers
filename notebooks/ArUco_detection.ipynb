{
 "cells": [
  {
   "cell_type": "markdown",
   "metadata": {},
   "source": [
    "# Detection of ArUco Markers\n",
    "\n",
    "## 1. Generating ArUco Markers"
   ]
  },
  {
   "cell_type": "code",
   "execution_count": 1,
   "metadata": {},
   "outputs": [],
   "source": [
    "import cv2\n",
    "import numpy as np\n",
    "import matplotlib.pyplot as plt\n",
    "import urllib.request\n",
    "from skimage import io\n",
    "from PIL import Image\n",
    "from scripts.cv2_imshow import cv2_imshow"
   ]
  },
  {
   "cell_type": "code",
   "execution_count": 19,
   "metadata": {},
   "outputs": [
    {
     "data": {
      "image/png": "[encoded data removed]",
      "text/plain": [
       "<Figure size 640x480 with 1 Axes>"
      ]
     },
     "metadata": {},
     "output_type": "display_data"
    }
   ],
   "source": [
    "myDict = cv2.aruco.getPredefinedDictionary(cv2.aruco.DICT_4X4_50)\n",
    "\n",
    "def generate_aruco(id, dictionary=cv2.aruco.getPredefinedDictionary(cv2.aruco.DICT_4X4_50), size=500, filename='aruco.png'):\n",
    "    # Generate the marker image\n",
    "    img = cv2.aruco.generateImageMarker(dictionary, id, size)\n",
    "    cv2.imwrite(f'img/{filename}', img)\n",
    "    return img\n",
    "\n",
    "# Generate ArUco tag with id 5\n",
    "tag_1 = generate_aruco(2, dictionary=myDict, filename='aruco_2.png')\n",
    "\n",
    "# Display the image\n",
    "cv2_imshow(tag_1)"
   ]
  },
  {
   "cell_type": "markdown",
   "metadata": {},
   "source": [
    "## Detecting Markers\n",
    "\n",
    "Next step is to detect the tags on an input image\n",
    "\n",
    "<img src=\"img/ArUco_test_1.png\" width=\"500\">"
   ]
  },
  {
   "cell_type": "code",
   "execution_count": 37,
   "metadata": {},
   "outputs": [
    {
     "data": {
      "text/plain": [
       "((array([[[ 588.,   56.],\n",
       "          [1032.,   56.],\n",
       "          [1032.,  500.],\n",
       "          [ 588.,  500.]]], dtype=float32),\n",
       "  array([[[ 74.,  73.],\n",
       "          [304.,  73.],\n",
       "          [304., 303.],\n",
       "          [ 74., 303.]]], dtype=float32),\n",
       "  array([[[340., 281.],\n",
       "          [528., 281.],\n",
       "          [528., 469.],\n",
       "          [340., 469.]]], dtype=float32)),\n",
       " array([[1],\n",
       "        [2],\n",
       "        [3]], dtype=int32),\n",
       " (array([[[809., 353.],\n",
       "          [884., 352.],\n",
       "          [885., 426.],\n",
       "          [810., 427.]]], dtype=float32),\n",
       "  array([[[459., 304.],\n",
       "          [505., 305.],\n",
       "          [504., 383.],\n",
       "          [457., 381.]]], dtype=float32),\n",
       "  array([[[112., 227.],\n",
       "          [189., 226.],\n",
       "          [190., 265.],\n",
       "          [113., 266.]]], dtype=float32),\n",
       "  array([[[372., 312.],\n",
       "          [403., 313.],\n",
       "          [402., 375.],\n",
       "          [371., 375.]]], dtype=float32),\n",
       "  array([[[227., 227.],\n",
       "          [266., 226.],\n",
       "          [267., 265.],\n",
       "          [228., 266.]]], dtype=float32)))"
      ]
     },
     "execution_count": 37,
     "metadata": {},
     "output_type": "execute_result"
    }
   ],
   "source": [
    "# load the image\n",
    "test_1 = cv2.imread('img/ArUco_test_1.png')\n",
    "\n",
    "markerIds = np.array([])\n",
    "\n",
    "markerCorners = np.array([])\n",
    "rejectedCandidates = np.array([])\n",
    "\n",
    "detector_1 = cv2.aruco.ArucoDetector(myDict, detectorParams=cv2.aruco.DetectorParameters())\n",
    "detector_1.detectMarkers(test_1, markerCorners, markerIds, rejectedCandidates)"
   ]
  },
  {
   "cell_type": "code",
   "execution_count": 38,
   "metadata": {},
   "outputs": [
    {
     "data": {
      "image/png": "[encoded data removed]",
      "text/plain": [
       "<Figure size 640x480 with 1 Axes>"
      ]
     },
     "metadata": {},
     "output_type": "display_data"
    }
   ],
   "source": [
    "output_1 = test_1.copy()\n",
    "output_1 = cv2.aruco.drawDetectedMarkers(output_1, markerCorners, markerIds)\n",
    "\n",
    "cv2_imshow(output_1)"
   ]
  }
 ],
 "metadata": {
  "kernelspec": {
   "display_name": "Python 3",
   "language": "python",
   "name": "python3"
  },
  "language_info": {
   "codemirror_mode": {
    "name": "ipython",
    "version": 3
   },
   "file_extension": ".py",
   "mimetype": "text/x-python",
   "name": "python",
   "nbconvert_exporter": "python",
   "pygments_lexer": "ipython3",
   "version": "3.11.8"
  }
 },
 "nbformat": 4,
 "nbformat_minor": 2
}
